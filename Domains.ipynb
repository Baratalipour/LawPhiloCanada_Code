{
 "cells": [
  {
   "cell_type": "code",
   "execution_count": null,
   "id": "26095a6d",
   "metadata": {},
   "outputs": [],
   "source": [
    "# First create label files with this command:\n",
    "# jq . The\\ Politics\\ of\\ Recognition.txt | grep '\"label\":' | sort | uniq > The\\ Politics\\ of\\ Recognition-labels.txt\n",
    "\n",
    "concept_files = [\n",
    "    \"The Politics of Recognition-labels.txt\",\n",
    "    \"2-labels.txt\",\n",
    "]\n",
    "\n",
    "#concept_directory = \"/Users/mahdi/Library/CloudStorage/OneDrive-UniversityofToronto/DESKTOP OF OLD MACBOOK AIR/Multiculturalism_sylabes&research/Resourses/chat_gpt/\"\n",
    "\n",
    "def read_concepts(concept_file):\n",
    "    assert os.path.exists(concept_file)\n",
    "\n",
    "    with open(concept_file, 'rt') as input_file:\n",
    "        concepts = input_file.readlines()\n",
    "        concepts = map(lambda concept: concept.replace('\"label\": ', ''), concepts)\n",
    "        concepts = map(lambda concept: concept.replace('\"', ''), concepts)\n",
    "        concepts = map(lambda concept: concept.strip(), concepts)\n",
    "        concepts = map(lambda concept: concept[:-1], concepts)   # remove comma at the end\n",
    "    concepts = list(concepts)\n",
    "    return concepts\n",
    "\n",
    "def save_results(res_file, res):\n",
    "    with open(res_file, \"wb\") as pickle_file:\n",
    "        pickle.dump(res, pickle_file)\n",
    "    print(f\"Results is saved at\\n{res_file}\")"
   ]
  },
  {
   "cell_type": "code",
   "execution_count": null,
   "id": "7c04dcd1",
   "metadata": {},
   "outputs": [],
   "source": []
  },
  {
   "cell_type": "code",
   "execution_count": null,
   "id": "8b04a2f9",
   "metadata": {},
   "outputs": [],
   "source": []
  },
  {
   "cell_type": "code",
   "execution_count": null,
   "id": "31d223ff",
   "metadata": {},
   "outputs": [],
   "source": [
    "# First create label files with this command:\n",
    "# jq . 1_THE_CONSTITUTION_ACTS_1867_to_1982.txt | grep '\"label\":' | sort | uniq > The\\ Politics\\ of\\ Recognition-labels.txt\n",
    "\n",
    "concept_files = [\n",
    "    \"1_THE_CONSTITUTION_ACTS_1867_to_1982.txt\",\n",
    "]\n",
    "\n",
    "concept_directory = \"/Users/mahdi/Library/CloudStorage/OneDrive-UniversityofToronto/DESKTOP OF OLD MACBOOK AIR/Multiculturalism_sylabes&research/Resourses/Canada_Legislation/chat_gpt/\"\n",
    "\n",
    "def read_concepts(concept_file):\n",
    "    assert os.path.exists(concept_file)\n",
    "\n",
    "    with open(concept_file, 'rt') as input_file:\n",
    "        concepts = input_file.readlines()\n",
    "        concepts = map(lambda concept: concept.replace('\"label\": ', ''), concepts)\n",
    "        concepts = map(lambda concept: concept.replace('\"', ''), concepts)\n",
    "        concepts = map(lambda concept: concept.strip(), concepts)\n",
    "        concepts = map(lambda concept: concept[:-1], concepts)   # remove comma at the end\n",
    "    concepts = list(concepts)\n",
    "    return concepts\n",
    "\n",
    "def save_results(res_file, res):\n",
    "    with open(res_file, \"wb\") as pickle_file:\n",
    "        pickle.dump(res, pickle_file)\n",
    "    print(f\"Results is saved at\\n{res_file}\")"
   ]
  },
  {
   "cell_type": "code",
   "execution_count": null,
   "id": "08571858",
   "metadata": {},
   "outputs": [],
   "source": []
  },
  {
   "cell_type": "code",
   "execution_count": null,
   "id": "3fe34cd6",
   "metadata": {},
   "outputs": [],
   "source": [
    "jq . deleted.txt | grep '\"label\":' | sort | uniq > deleted-label.txt\n",
    "\n",
    "jq . 1_THE_CONSTITUTION_ACTS_1867_to_1982.txt | grep '\"label\":' | sort | uniq > 1_THE_CONSTITUTION_ACTS_1867_to_1982-label.txt"
   ]
  },
  {
   "cell_type": "code",
   "execution_count": null,
   "id": "9d2ce1d5",
   "metadata": {},
   "outputs": [],
   "source": [
    "jq . output.txt | grep '\"label\":' | sort | uniq > output-label.txt\n",
    "\n",
    "jq . 1_THE_CONSTITUTION_ACTS_1867_to_1982.txt | grep '\"label\":' | sort | uniq > 1_THE_CONSTITUTION_ACTS_1867_to_1982-label.txt\n"
   ]
  },
  {
   "cell_type": "code",
   "execution_count": null,
   "id": "c98bc867",
   "metadata": {},
   "outputs": [],
   "source": []
  },
  {
   "cell_type": "code",
   "execution_count": null,
   "id": "0d77249f",
   "metadata": {},
   "outputs": [],
   "source": [
    "jq . /Users/mahdi/Library/CloudStorage/OneDrive-UniversityofToronto/DESKTOP OF OLD MACBOOK AIR/Multiculturalism_sylabes&research/Resourses/Canada_Legislation/chat_gpt/deleted.txt | grep '\"label\":' | sort | uniq > deleted-label.txt\n",
    "/Users/mahdi/Library/CloudStorage/OneDrive-UniversityofToronto/DESKTOP OF OLD MACBOOK AIR/Multiculturalism_sylabes&research/Resourses/Canada_Legislation/chat_gpt\n",
    "\n",
    "jq . /Users/mahdi/Library/CloudStorage/OneDrive-UniversityofToronto/deleted.txt | grep '\"label\":' | sort | uniq > deleted-label.txt\n",
    "\n"
   ]
  },
  {
   "cell_type": "code",
   "execution_count": null,
   "id": "7b3c26c6",
   "metadata": {},
   "outputs": [],
   "source": [
    "jq . /Users/mahdi/Library/CloudStorage/OneDrive-UniversityofToronto/Output3.txt | grep '\"label\":' | sort | uniq > Output3-label.txt\n",
    "\n",
    "Output3\n",
    "\n",
    "\n",
    "jq . /Users/mahdi/Library/CloudStorage/OneDrive-UniversityofToronto/Output3.txt | grep '\"label\":' | sort | uniq > /Users/mahdi/Library/CloudStorage/OneDrive-UniversityofToronto/Output3-label.txt\n",
    "\n"
   ]
  },
  {
   "cell_type": "code",
   "execution_count": null,
   "id": "23a62df2",
   "metadata": {},
   "outputs": [],
   "source": []
  },
  {
   "cell_type": "code",
   "execution_count": null,
   "id": "25f4db79",
   "metadata": {},
   "outputs": [],
   "source": []
  },
  {
   "cell_type": "code",
   "execution_count": null,
   "id": "cf0963b0",
   "metadata": {},
   "outputs": [],
   "source": [
    "just it was correct."
   ]
  },
  {
   "cell_type": "code",
   "execution_count": null,
   "id": "03166f38",
   "metadata": {},
   "outputs": [],
   "source": [
    "jq . /Users/mahdi/Library/CloudStorage/OneDrive-UniversityofToronto/Output3.txt | grep '\"label\":' | sort | uniq > /Users/mahdi/Library/CloudStorage/OneDrive-UniversityofToronto/Output3-label.txt\n"
   ]
  },
  {
   "cell_type": "code",
   "execution_count": null,
   "id": "1806b55f",
   "metadata": {},
   "outputs": [],
   "source": []
  },
  {
   "cell_type": "code",
   "execution_count": null,
   "id": "1dd1c14e",
   "metadata": {},
   "outputs": [],
   "source": []
  },
  {
   "cell_type": "code",
   "execution_count": null,
   "id": "1c172495",
   "metadata": {},
   "outputs": [],
   "source": []
  },
  {
   "cell_type": "code",
   "execution_count": null,
   "id": "ad0efad7",
   "metadata": {},
   "outputs": [],
   "source": []
  },
  {
   "cell_type": "code",
   "execution_count": null,
   "id": "925a9920",
   "metadata": {},
   "outputs": [],
   "source": [
    "# First create label files with this command:\n",
    "# jq . 1_THE_CONSTITUTION_ACTS_1867_to_1982.txt | grep '\"label\":' | sort | uniq > 1_THE_CONSTITUTION_ACTS_1867_to_1982.txt\n",
    "jq . 1_THE_CONSTITUTION_ACTS_1867_to_1982.txt | grep '\"label\":' | sort | uniq > output.txt\n",
    "concept_files = [\n",
    "    \"1_THE_CONSTITUTION_ACTS_1867_to_1982.txt\",\n",
    "]\n",
    "\n",
    "concept_directory = \"/Users/mahdi/Library/CloudStorage/OneDrive-UniversityofToronto/DESKTOP OF OLD MACBOOK AIR/Multiculturalism_sylabes&research/Resourses/Canada_Legislation/chat_gpt/\"\n",
    "\n",
    "def read_concepts(concept_file):\n",
    "    assert os.path.exists(concept_file)\n",
    "\n",
    "    with open(concept_file, 'rt') as input_file:\n",
    "        concepts = input_file.readlines()\n",
    "        concepts = map(lambda concept: concept.replace('\"label\": ', ''), concepts)\n",
    "        concepts = map(lambda concept: concept.replace('\"', ''), concepts)\n",
    "        concepts = map(lambda concept: concept.strip(), concepts)\n",
    "        concepts = map(lambda concept: concept[:-1], concepts)   # remove comma at the end\n",
    "    concepts = list(concepts)\n",
    "    return concepts\n",
    "\n",
    "def save_results(res_file, res):\n",
    "    with open(res_file, \"wb\") as pickle_file:\n",
    "        pickle.dump(res, pickle_file)\n",
    "    print(f\"Results is saved at\\n{res_file}\")"
   ]
  },
  {
   "cell_type": "code",
   "execution_count": null,
   "id": "4299369a",
   "metadata": {},
   "outputs": [],
   "source": []
  },
  {
   "cell_type": "code",
   "execution_count": null,
   "id": "deaacc9b",
   "metadata": {},
   "outputs": [],
   "source": []
  },
  {
   "cell_type": "code",
   "execution_count": null,
   "id": "817990e9",
   "metadata": {},
   "outputs": [],
   "source": [
    "# First create label files with this command:\n",
    "# jq . 1_THE_CONSTITUTION_ACTS_1867_to_1982.txt | grep '\"label\":' | sort | uniq > 1_THE_CONSTITUTION_ACTS_1867_to_1982.txt\n",
    "# jq . 1_THE_CONSTITUTION_ACTS_1867_to_1982.txt | grep '\"label\":' | sort | uniq > output.txt\n",
    "concept_files = [\n",
    "    \"1_THE_CONSTITUTION_ACTS_1867_to_1982-label.txt\",\n",
    "]\n",
    "\n",
    "concept_directory = \"/Users/mahdi/Library/CloudStorage/OneDrive-UniversityofToronto/\"\n",
    "\n",
    "def read_concepts(concept_file):\n",
    "    assert os.path.exists(concept_file)\n",
    "\n",
    "    with open(concept_file, 'rt') as input_file:\n",
    "        concepts = input_file.readlines()\n",
    "        concepts = map(lambda concept: concept.replace('\"label\": ', ''), concepts)\n",
    "        concepts = map(lambda concept: concept.replace('\"', ''), concepts)\n",
    "        concepts = map(lambda concept: concept.strip(), concepts)\n",
    "        concepts = map(lambda concept: concept[:-1], concepts)   # remove comma at the end\n",
    "    concepts = list(concepts)\n",
    "    return concepts\n",
    "\n",
    "def save_results(res_file, res):\n",
    "    with open(res_file, \"wb\") as pickle_file:\n",
    "        pickle.dump(res, pickle_file)\n",
    "    print(f\"Results is saved at\\n{res_file}\")"
   ]
  },
  {
   "cell_type": "code",
   "execution_count": null,
   "id": "c8c79806",
   "metadata": {},
   "outputs": [],
   "source": []
  }
 ],
 "metadata": {
  "kernelspec": {
   "display_name": "Python 3 (ipykernel)",
   "language": "python",
   "name": "python3"
  },
  "language_info": {
   "codemirror_mode": {
    "name": "ipython",
    "version": 3
   },
   "file_extension": ".py",
   "mimetype": "text/x-python",
   "name": "python",
   "nbconvert_exporter": "python",
   "pygments_lexer": "ipython3",
   "version": "3.11.5"
  }
 },
 "nbformat": 4,
 "nbformat_minor": 5
}
